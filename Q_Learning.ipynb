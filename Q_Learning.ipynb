{
 "cells": [
  {
   "cell_type": "markdown",
   "metadata": {},
   "source": [
    "# Q Learning\n",
    "### Introduction\n",
    "Today, you'll learn about QLearning using the gym api.\n",
    "> Gym is a standard API for reinforcement learning, and a diverse collection of reference environments.\n",
    "\n",
    "Reinforcement learning is a subset of Artificial Intelligence. Our AI will learn by playing the same game over and over again until it learns what it must do in order to win.\n",
    "\n",
    "In this workshop, you will:\n",
    "\n",
    "1. Learn about Q Tables\n",
    "2. Setup a gym environment\n",
    "3. Train an AI to solve the [FrozenLake environment](https://gymnasium.farama.org/environments/toy_text/frozen_lake/)\n",
    "\n",
    "Let's start by importing the required libraries:"
   ]
  },
  {
   "cell_type": "code",
   "execution_count": 22,
   "metadata": {},
   "outputs": [],
   "source": [
    "import random\n",
    "import gymnasium as gym\n",
    "import numpy as np\n",
    "import matplotlib.pyplot as plt"
   ]
  },
  {
   "cell_type": "markdown",
   "metadata": {},
   "source": [
    "## 1. Q-Learning"
   ]
  },
  {
   "cell_type": "markdown",
   "metadata": {},
   "source": [
    "A simple example of Q-Learning: \n",
    "\n",
    "![Example of a Q-Learning Environment](./images/example.png)\n",
    "\n",
    "A game where the AI must get to the “End” coordinates on the map in the shortest amount of time while avoiding the bombs and collecting the bonuses.\n",
    "\n",
    "A Q-Table for this environment could be visualized like this. \n",
    "\n",
    "![Example of a Q-Table](./images/qtable.png)\n",
    "\n",
    "With all of the possible actions listed horizontally and all of the possible states listed vertically.\n",
    "\n",
    "Write a function which generates an empty array of shape `x` * `y`."
   ]
  },
  {
   "cell_type": "code",
   "execution_count": 23,
   "metadata": {},
   "outputs": [
    {
     "name": "stdout",
     "output_type": "stream",
     "text": [
      "Q-Table:\n",
      "[[0. 0. 0. 0.]\n",
      " [0. 0. 0. 0.]\n",
      " [0. 0. 0. 0.]\n",
      " [0. 0. 0. 0.]\n",
      " [0. 0. 0. 0.]]\n"
     ]
    }
   ],
   "source": [
    "# Initializing an empty table\n",
    "\n",
    "def init_q_table(x: int, y: int) -> np.ndarray:\n",
    "    return np.zeros((x, y))\n",
    "\n",
    "qTable = init_q_table(5, 4)\n",
    "\n",
    "print(\"Q-Table:\\n\" + str(qTable))\n",
    "\n",
    "assert(np.mean(qTable) == 0)"
   ]
  },
  {
   "cell_type": "markdown",
   "metadata": {},
   "source": [
    "In reinforcement learning, the AI receives a **reward** each time it **acts**:\n",
    "\n",
    "This reward is a number that will be interpreted by our AI:\n",
    "\n",
    "- If it is negative, the AI will learn that the action it made which led to this reward was probably not the best\n",
    "- If it is null or positive, the AI will learn that the action it made which led to this reward was probably smart and it should do it again.\n",
    "\n",
    "Here, the AI would likely receive a **negative reward** (-1) if it chooses to move to the right (because there's a bomb)\n",
    "\n",
    "However, if it went anywhere else, it would probably receive a **neutral reward** (0), since it would end up on blank squares.\n",
    "\n",
    "Assuming it decided to go to the right, the AI would encounter a bomb and the value for [Start, Move_Right] would decrease.\n",
    "\n",
    "\n",
    "Once we receive a reward, we can use the Q Formula below to update our Q Table's values. Our AI will use these values to learn what the most profitable action is at each state of the environment.\n",
    "\n",
    "![QFormula](./images/qformula.png)"
   ]
  },
  {
   "cell_type": "markdown",
   "metadata": {},
   "source": [
    "#### Translation:\n",
    "\n",
    "**Q<sup>new</sup>(s<sub>t</sub>, a<sub>t</sub>)** = the new value for the current State and Action on our Qtable\n",
    "\n",
    "**Q(s<sub>t</sub>, a<sub>t</sub>)** = the old value for the current State and Action on our QTable\n",
    "\n",
    "**α (learning rate)** = a constant value we use for our algorithm's learning speed (usually a number between 0.5 and 0.05)\n",
    "\n",
    "**r<sub>t</sub> (reward)** = the reward received (as per the example above, -1 if you hit a bomb)\n",
    "\n",
    "**𝛾 (discount factor)** = another constant value we use to determine how good of a memory our AI has\n",
    "\n",
    "**max Q<sup>new</sup>(s<sub>t+1</sub>, a)** = the value of the most profitable action at the new state\n",
    "\n",
    "##### Now that you know how a Q Table updates itself using the Q Formula, let's try to implement this formula as a python function:\n",
    "(You can use the `LEARNING_RATE` and `DISCOUNT_RATE` constants in your formula)"
   ]
  },
  {
   "cell_type": "code",
   "execution_count": 24,
   "metadata": {},
   "outputs": [],
   "source": [
    "LEARNING_RATE = 0.05\n",
    "DISCOUNT_RATE = 0.99\n",
    "\n",
    "def q_function(q_table: np.ndarray, state: int, action: int, reward: int, newState: int) -> float:\n",
    "    updated_value = q_table[state, action] + LEARNING_RATE * (reward + DISCOUNT_RATE * np.max(q_table[newState]) - q_table[state, action])\n",
    "    return updated_value"
   ]
  },
  {
   "cell_type": "markdown",
   "metadata": {},
   "source": [
    "Now, you can test the Q Function to see if it works !\\\n",
    "If qTable[0, 1]'s value below is `-0.05`, congrats: you have successfully implemented the formula !"
   ]
  },
  {
   "cell_type": "code",
   "execution_count": 37,
   "metadata": {},
   "outputs": [
    {
     "name": "stdout",
     "output_type": "stream",
     "text": [
      "Q-Table after action:\n",
      "[[ 0.   -0.05  0.    0.  ]\n",
      " [ 0.    0.    0.    0.  ]\n",
      " [ 0.    0.    0.    0.  ]\n",
      " [ 0.    0.    0.    0.  ]\n",
      " [ 0.    0.    0.    0.  ]]\n"
     ]
    }
   ],
   "source": [
    "q_table = init_q_table(5,4)\n",
    "\n",
    "q_table[0, 1] = q_function(q_table, state=0, action=1, reward=-1, newState=3)\n",
    "\n",
    "print(\"Q-Table after action:\\n\" + str(q_table))\n",
    "\n",
    "assert(q_table[0, 1] == -LEARNING_RATE), f\"The Q function is incorrect: the value of qTable[0, 1] should be -{LEARNING_RATE}\""
   ]
  },
  {
   "cell_type": "markdown",
   "metadata": {},
   "source": [
    "## 2. Setting up the GYM Environment\n",
    "\n",
    "#### What is Gym ?\n",
    "> Gym is a standard API for reinforcement learning, and a diverse collection of reference environments\n",
    ">\n",
    "> -- <cite>Gym Docs</cite>\n",
    "\n",
    "Let's get to the fun part:\n",
    "Read the documentation for FrozenLake [here](https://gymnasium.farama.org/environments/toy_text/frozen_lake/)\n",
    "and find out how to load the environment.\n",
    "\n",
    "For now, we will set the `is_slippery` variable to `False` \n"
   ]
  },
  {
   "cell_type": "code",
   "execution_count": 53,
   "metadata": {},
   "outputs": [],
   "source": [
    "# write some code to load and make the FrozenLake environment:\n",
    "env = gym.make(\"FrozenLake-v1\", map_name=\"4x4\", is_slippery=False, render_mode=\"rgb_array\")"
   ]
  },
  {
   "cell_type": "markdown",
   "metadata": {},
   "source": [
    "Now that our environment is loaded, we need a function that performs a random action.\n",
    "\n",
    "An action is a number between 0 and the total number of possible actions.\n",
    "\n",
    "Try to find the value (inside `env`) that gives this total number of actions in the environment and store it in `total_actions`."
   ]
  },
  {
   "cell_type": "code",
   "execution_count": 54,
   "metadata": {},
   "outputs": [],
   "source": [
    "total_actions = env.action_space.n\n",
    "\n",
    "assert(total_actions == 4), f\"There are a total of four possible actions in this environment. Your answer is {total_actions}\""
   ]
  },
  {
   "cell_type": "markdown",
   "metadata": {},
   "source": [
    "Now you can use `total_actions` to make a function which returns a random action each time it is called !\n",
    "\n",
    "There is also another way to do it..."
   ]
  },
  {
   "cell_type": "code",
   "execution_count": 55,
   "metadata": {},
   "outputs": [],
   "source": [
    "def random_action(env):\n",
    "    return np.random.randint(env.action_space.n)"
   ]
  },
  {
   "cell_type": "markdown",
   "metadata": {},
   "source": [
    "With the `random_action` function, you can run the code below which will display the first frame of the environment."
   ]
  },
  {
   "cell_type": "code",
   "execution_count": 57,
   "metadata": {},
   "outputs": [
    {
     "name": "stdout",
     "output_type": "stream",
     "text": [
      "actions: 4\n",
      "states: 16\n",
      "Current state: 1\n"
     ]
    },
    {
     "data": {
      "image/png": "[encoded data removed]",
      "text/plain": [
       "<Figure size 432x288 with 1 Axes>"
      ]
     },
     "metadata": {
      "needs_background": "light"
     },
     "output_type": "display_data"
    }
   ],
   "source": [
    "observation, info = env.reset()\n",
    "\n",
    "# Performing an action\n",
    "action = random_action(env)\n",
    "observation, reward, done, _, info = env.step(action)\n",
    "\n",
    "# Displaying the first frame of the game\n",
    "plt.imshow(env.render())\n",
    "\n",
    "# Printing game info\n",
    "print(f\"actions: {env.action_space.n}\\nstates: {env.observation_space.n}\")\n",
    "print(f\"Current state: {observation}\")\n",
    "\n",
    "# Closing the environment\n",
    "env.close()"
   ]
  },
  {
   "cell_type": "code",
   "execution_count": null,
   "metadata": {},
   "outputs": [],
   "source": []
  },
  {
   "cell_type": "markdown",
   "metadata": {},
   "source": [
    "In this environment, there are **4 possible actions** for each of the **16 possible states**.\\\n",
    "Feel free to play around with the code above to get a better understanding of the API.\n",
    "\n",
    "## 3. Solving the environment"
   ]
  },
  {
   "cell_type": "markdown",
   "metadata": {},
   "source": [
    "Now that we've got a Q Table, Q Function and our environment, we can create our `game_loop`.\n",
    "\n",
    "Call `qFunc()` using the correct arguments it requires in the code below to update the `qTable[,]` using the values available in the function."
   ]
  },
  {
   "cell_type": "code",
   "execution_count": 70,
   "metadata": {},
   "outputs": [],
   "source": [
    "def game_loop(env: gym.Env, q_table: np.ndarray, state: int, action: int) -> tuple:\n",
    "    next_state, reward, done, _ = env.step(action)\n",
    "    \n",
    "    updated_value = q_function(q_table, state, action, reward, next_state)\n",
    "    \n",
    "    q_table[state, action] = updated_value\n",
    "    \n",
    "    return (q_table, next_state, done, reward)  # Mettre les valeurs dans un tuple avant de retourner\n"
   ]
  },
  {
   "cell_type": "markdown",
   "metadata": {},
   "source": [
    "Run the code below to see how the environment runs using your `game_loop`."
   ]
  },
  {
   "cell_type": "code",
   "execution_count": 71,
   "metadata": {},
   "outputs": [
    {
     "ename": "ValueError",
     "evalue": "too many values to unpack (expected 4)",
     "output_type": "error",
     "traceback": [
      "\u001b[0;31m---------------------------------------------------------------------------\u001b[0m",
      "\u001b[0;31mValueError\u001b[0m                                Traceback (most recent call last)",
      "Input \u001b[0;32mIn [71]\u001b[0m, in \u001b[0;36m<cell line: 6>\u001b[0;34m()\u001b[0m\n\u001b[1;32m      6\u001b[0m env\u001b[38;5;241m.\u001b[39mrender()\n\u001b[1;32m      7\u001b[0m action \u001b[38;5;241m=\u001b[39m random_action(env)\n\u001b[0;32m----> 8\u001b[0m q_table, state, done, reward \u001b[38;5;241m=\u001b[39m \u001b[43mgame_loop\u001b[49m\u001b[43m(\u001b[49m\u001b[43menv\u001b[49m\u001b[43m,\u001b[49m\u001b[43m \u001b[49m\u001b[43mq_table\u001b[49m\u001b[43m,\u001b[49m\u001b[43m \u001b[49m\u001b[43mstate\u001b[49m\u001b[43m,\u001b[49m\u001b[43m \u001b[49m\u001b[43maction\u001b[49m\u001b[43m)\u001b[49m\n\u001b[1;32m      9\u001b[0m \u001b[38;5;28;01mif\u001b[39;00m done:\n\u001b[1;32m     10\u001b[0m     \u001b[38;5;28;01mbreak\u001b[39;00m\n",
      "Input \u001b[0;32mIn [70]\u001b[0m, in \u001b[0;36mgame_loop\u001b[0;34m(env, q_table, state, action)\u001b[0m\n\u001b[1;32m      1\u001b[0m \u001b[38;5;28;01mdef\u001b[39;00m \u001b[38;5;21mgame_loop\u001b[39m(env: gym\u001b[38;5;241m.\u001b[39mEnv, q_table: np\u001b[38;5;241m.\u001b[39mndarray, state: \u001b[38;5;28mint\u001b[39m, action: \u001b[38;5;28mint\u001b[39m) \u001b[38;5;241m-\u001b[39m\u001b[38;5;241m>\u001b[39m \u001b[38;5;28mtuple\u001b[39m:\n\u001b[0;32m----> 2\u001b[0m     next_state, reward, done, _ \u001b[38;5;241m=\u001b[39m env\u001b[38;5;241m.\u001b[39mstep(action)\n\u001b[1;32m      4\u001b[0m     updated_value \u001b[38;5;241m=\u001b[39m q_function(q_table, state, action, reward, next_state)\n\u001b[1;32m      6\u001b[0m     q_table[state, action] \u001b[38;5;241m=\u001b[39m updated_value\n",
      "\u001b[0;31mValueError\u001b[0m: too many values to unpack (expected 4)"
     ]
    }
   ],
   "source": [
    "env = gym.make(\"FrozenLake-v1\", map_name=\"4x4\", is_slippery=False, render_mode=\"human\")\n",
    "q_table = init_q_table(env.observation_space.n, env.action_space.n)\n",
    "\n",
    "state, info = env.reset()\n",
    "while (True):\n",
    "    env.render()\n",
    "    action = random_action(env)\n",
    "    q_table, state, done, reward = game_loop(env, q_table, state, action)\n",
    "    if done:\n",
    "        break\n",
    "env.close()"
   ]
  },
  {
   "cell_type": "markdown",
   "metadata": {},
   "source": [
    "Now, to see if our AI learns, we will launch the environment 1000 times and see how the Q-Table evolves.\n",
    "\n",
    "Notice how in the code below, we do not call `env.render()` each frame because if we did, our 1000 iterations would take a **lot** of time to complete."
   ]
  },
  {
   "cell_type": "code",
   "execution_count": null,
   "metadata": {},
   "outputs": [],
   "source": [
    "EPOCH = 20000\n",
    "\n",
    "env = gym.make(\"FrozenLake-v1\", map_name=\"4x4\", is_slippery=False)\n",
    "q_table = init_q_table(env.observation_space.n, env.action_space.n)\n",
    "\n",
    "for i in range(EPOCH):\n",
    "    state, info = env.reset()\n",
    "    while (True):\n",
    "        # This time, we won't render the game each frame because it would take too long\n",
    "        action = random_action(env)\n",
    "        q_table, state, done, reward = game_loop(env, q_table, state, action)\n",
    "        if done:\n",
    "            break\n",
    "env.close()\n",
    "\n",
    "# Printing the QTable result:\n",
    "for states in q_table:\n",
    "    for actions in states:\n",
    "        if (actions == max(states)):\n",
    "            print(\"\\033[4m\", end=\"\")\n",
    "        else:\n",
    "            print(\"\\033[0m\", end=\"\")\n",
    "        if (actions > 0):\n",
    "            print(\"\\033[92m\", end=\"\")\n",
    "        else:\n",
    "            print(\"\\033[00m\", end=\"\")\n",
    "        print(round(actions, 3), end=\"\\t\")\n",
    "    print()"
   ]
  },
  {
   "cell_type": "markdown",
   "metadata": {},
   "source": [
    "Great ! We now have a nice Q-Table that indicates which action is best for each state."
   ]
  },
  {
   "cell_type": "markdown",
   "metadata": {},
   "source": [
    "Now, it would probably be better for our agent to choose actions based on its experience, rather than at random.\n",
    "Write a function which chooses the best action for each given state:"
   ]
  },
  {
   "cell_type": "code",
   "execution_count": null,
   "metadata": {},
   "outputs": [],
   "source": [
    "def best_action(q_table: np.ndarray, state: int) -> int:\n",
    "    \"\"\"\n",
    "    Write a function which finds the best action for the given state.\n",
    "\n",
    "    It should return its index.\n",
    "    \"\"\"\n",
    "    return None"
   ]
  },
  {
   "cell_type": "markdown",
   "metadata": {},
   "source": [
    "Run the code below to see the result of our training !"
   ]
  },
  {
   "cell_type": "code",
   "execution_count": null,
   "metadata": {},
   "outputs": [],
   "source": [
    "env = gym.make(\"FrozenLake-v1\", map_name=\"4x4\", is_slippery=False, render_mode=\"human\")\n",
    "\n",
    "state, info = env.reset()\n",
    "while (True):\n",
    "    env.render()\n",
    "    action = best_action(q_table, state)\n",
    "    q_table, state, done, reward = game_loop(env, q_table, state, action)\n",
    "    if done:\n",
    "        break\n",
    "\n",
    "env.close()"
   ]
  },
  {
   "cell_type": "markdown",
   "metadata": {},
   "source": [
    "##### If all went well, our AI should easily reach its goal !"
   ]
  },
  {
   "cell_type": "markdown",
   "metadata": {},
   "source": [
    "However, the AI should probably try to explore all the different possibilities before it starts optimising its gain by following the Q Table...\\\n",
    "In order to solve this problem, we can use the Epsilon-Greedy strategy!"
   ]
  },
  {
   "cell_type": "markdown",
   "metadata": {},
   "source": [
    "### What is Epsilon Greedy ?\n",
    "\n",
    "Epsilon greedy is a strategy used to make sure that our AI explores its environment and doesn’t miss out on some cool easter eggs !\n",
    "\n",
    "![EpsilonGreedy](https://steadfast-ragdoll-d83.notion.site/image/https%3A%2F%2Fs3-us-west-2.amazonaws.com%2Fsecure.notion-static.com%2Fa8444925-9940-46b2-b9e3-aae5ca792a74%2FUntitled.png?table=block&id=ce90b632-5d78-4cb0-8101-b326b91bf25d&spaceId=a008bb22-92df-498d-b32c-15988ddb70b9&width=770&userId=&cache=v2)\n",
    "\n",
    "<cite>[source](https://medium.com/analytics-vidhya/the-epsilon-greedy-algorithm-for-reinforcement-learning-5fe6f96dc870)</cite>\n",
    "\n",
    "```\n",
    "if random(0, 1) > epsilon-greedy:\n",
    "\treturn bestKnownAction\n",
    "else:\n",
    "\treturn randomAction\n",
    "```\n",
    "\t\t\n",
    "The higher the epsilon-greedy value is (from 0 to 1), the higher chance of the AI picking an action at random.\n",
    "\n",
    "The lower the epsilon-greedy value is (from 0 to 1 still), the higher chance of the AI picking an action it considers the most rewarding.\n",
    "\n",
    "In other words, with a high epsilon-greedy value, the robot pictured above might go to the right whereas it would probably choose the left path if it had a lower epsilon-greedy value, therefore missing out on a special discovery !\n",
    "\n",
    "\n",
    "\n",
    "Try to implement it into the following function that we'll use to determine which action the AI will choose:"
   ]
  },
  {
   "cell_type": "code",
   "execution_count": null,
   "metadata": {},
   "outputs": [],
   "source": [
    "def choose_action(epsilon: float, q_table: np.ndarray, state: int, env: gym.Env) -> int:\n",
    "    \"\"\"\n",
    "    Write a function to either return a random action or the best action using the functions\n",
    "    defined earlier.\n",
    "    \"\"\"\n",
    "    pass"
   ]
  },
  {
   "cell_type": "markdown",
   "metadata": {},
   "source": [
    "With this function, the AI will explore all possible actions before it chooses the best state, reducing the risk of it missing some golden solutions."
   ]
  },
  {
   "cell_type": "markdown",
   "metadata": {},
   "source": [
    "But we're not done...\\\n",
    "You might have noticed that when we load our environment, we give it a certain argument:\\\n",
    "`is_slippery=False`\n",
    "\n",
    "This argument makes the game far easier !\n",
    "If you want a real challenge, set it to true."
   ]
  },
  {
   "cell_type": "markdown",
   "metadata": {},
   "source": [
    "But the environment will be much harder to solve if the ice is slippery. Our agent's movements will be unpredictable and it will be impossible to make a 100% accurate AI.\n",
    "\n",
    "Therefore, keep track of the number of times the AI gets to its goal during our testing phase.\n",
    "\n",
    "##### Try to get the highest accuracy possible !"
   ]
  },
  {
   "cell_type": "code",
   "execution_count": null,
   "metadata": {},
   "outputs": [],
   "source": [
    "env = gym.make(\"FrozenLake-v1\", map_name=\"4x4\", is_slippery=True, render_mode=\"rgb_array\")\n",
    "\n",
    "q_table = init_q_table(env.observation_space.n, env.action_space.n)\n",
    "\n",
    "# Training the AI\n",
    "epsilon = 1.0\n",
    "for i in range(10000):\n",
    "    epsilon = max(epsilon - 0.0001, 0)\n",
    "    state, info = env.reset()\n",
    "    while (True):\n",
    "        action = choose_action(epsilon, q_table, state, env)\n",
    "        q_table, state, done, reward = game_loop(env, q_table, state, action)\n",
    "        if done:\n",
    "            break\n",
    "# Testing the AI\n",
    "wins = 0.0\n",
    "for i in range(100):\n",
    "    state, info = env.reset()\n",
    "    while (True):\n",
    "        action = choose_action(0, q_table, state, env)\n",
    "        _, state, done, reward = game_loop(env, q_table, state, action)\n",
    "        if done:\n",
    "            if (reward > 0):\n",
    "                wins += 1\n",
    "            break\n",
    "\n",
    "print(f\"{round(wins / (i+1) * 100, 2)}% winrate\")\n",
    "print(wins)\n",
    "\n",
    "# Displaying the last frame of the game\n",
    "plt.imshow(env.render())\n",
    "\n",
    "env.close()"
   ]
  },
  {
   "cell_type": "markdown",
   "metadata": {},
   "source": [
    "Great job ! You completed this workshop !\n",
    "If you want to continue in the wonderful world of reinforcement learning, you could try:\n",
    "- Try and increase the accuracy by using different methods of reinforcement learning.\n",
    "- A custom map for Frozen Lake. For example: `gym.make('FrozenLake-v1', map_name=\"8x8\", is_slippery=True)`\n",
    "- A different environment from https://gymnasium.farama.org/\n",
    "- Going **deeper** with https://pytorch.org/tutorials/intermediate/reinforcement_q_learning.html\n",
    "- Trying what you've learned with games you know and love:\n",
    "    - https://gymnasium.farama.org/environments/atari/\n",
    "    - https://pypi.org/project/gym-super-mario-bros/"
   ]
  }
 ],
 "metadata": {
  "kernelspec": {
   "display_name": "Python 3 (ipykernel)",
   "language": "python",
   "name": "python3"
  },
  "language_info": {
   "codemirror_mode": {
    "name": "ipython",
    "version": 3
   },
   "file_extension": ".py",
   "mimetype": "text/x-python",
   "name": "python",
   "nbconvert_exporter": "python",
   "pygments_lexer": "ipython3",
   "version": "3.9.12"
  },
  "vscode": {
   "interpreter": {
    "hash": "97cba5719d159acad27bb7f37d182d27b1d38df28115fbd0d331121e7aca3605"
   }
  }
 },
 "nbformat": 4,
 "nbformat_minor": 2
}
